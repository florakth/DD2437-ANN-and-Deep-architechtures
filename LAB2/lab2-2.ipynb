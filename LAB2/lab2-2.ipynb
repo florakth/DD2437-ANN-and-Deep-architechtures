{
 "cells": [
  {
   "cell_type": "markdown",
   "metadata": {},
   "source": [
    "# Lab2 part2 2020.02"
   ]
  },
  {
   "cell_type": "code",
   "execution_count": null,
   "metadata": {},
   "outputs": [],
   "source": [
    "import numpy as np\n",
    "import matplotlib.pyplot as plt\n",
    "from scipy.spatial.distance import cityblock\n",
    "import math\n",
    "import pandas as pd"
   ]
  },
  {
   "cell_type": "code",
   "execution_count": 2,
   "metadata": {},
   "outputs": [],
   "source": [
    "\n",
    "class SOM():\n",
    "    \n",
    "    def __init__(self, patterns=84, output_nodes=100, eta=0.2):\n",
    "        self.eta = eta\n",
    "        self.patterns = patterns\n",
    "        self.output_nodes = output_nodes\n",
    "        self.weights = None\n",
    "    \n",
    "    def Euclidean(self, x, y):\n",
    "        return np.sum(np.square(x-y),axis=1)\n",
    "        \n",
    "    def fit(self,X):  \n",
    "        np.random.seed(400)\n",
    "        self.weights = np.random.rand(self.output_nodes, self.patterns)\n",
    "        epochs = 20\n",
    "        for epoch in range(epochs):\n",
    "            neighbourhood_size = (50 - round(2.5 * epoch))\n",
    "            for sample in X:\n",
    "                dist = self.Euclidean(sample, self.weights)\n",
    "                winner = np.argmin(dist)\n",
    "                if winner < neighbourhood_size:\n",
    "                    idx = np.arange(0,neighbourhood_size)\n",
    "                else:\n",
    "                    idx = np.arange(winner-neighbourhood_size,winner)\n",
    "                self.weights[idx,:] +=  self.eta * (sample - self.weights[idx,:])\n",
    "    \n",
    "    def mapping(self,X,labels):\n",
    "        order = []\n",
    "        for ind,sample in enumerate(X):\n",
    "            dist = self.Euclidean(sample, self.weights)\n",
    "            winner = np.argmin(dist)\n",
    "            order.append(winner)\n",
    "           # print(order)\n",
    "     \n",
    "        index = np.argsort(order)\n",
    "        for i in index:\n",
    "            print(order[i],labels[i])\n"
   ]
  },
  {
   "cell_type": "code",
   "execution_count": 3,
   "metadata": {},
   "outputs": [],
   "source": [
    "animal_data = np.loadtxt('data_lab2/animals.dat', delimiter = ',', dtype = int)\n",
    "animalNames = np.loadtxt('data_lab2/animalnames.txt', dtype = str)"
   ]
  },
  {
   "cell_type": "code",
   "execution_count": 4,
   "metadata": {},
   "outputs": [],
   "source": [
    "animal_data = np.reshape(animal_data, (32,84))"
   ]
  },
  {
   "cell_type": "code",
   "execution_count": 5,
   "metadata": {},
   "outputs": [
    {
     "data": {
      "text/plain": [
       "array([\"'antelop'\", \"'ape'\", \"'bat'\", \"'bear'\", \"'beetle'\", \"'butterfly'\",\n",
       "       \"'camel'\", \"'cat'\", \"'crocodile'\", \"'dog'\", \"'dragonfly'\",\n",
       "       \"'duck'\", \"'elephant'\", \"'frog'\", \"'giraffe'\", \"'grasshopper'\",\n",
       "       \"'horse'\", \"'housefly'\", \"'hyena'\", \"'kangaroo'\", \"'lion'\",\n",
       "       \"'moskito'\", \"'ostrich'\", \"'pelican'\", \"'penguin'\", \"'pig'\",\n",
       "       \"'rabbit'\", \"'rat'\", \"'seaturtle'\", \"'skunk'\", \"'spider'\",\n",
       "       \"'walrus'\"], dtype='<U13')"
      ]
     },
     "execution_count": 5,
     "metadata": {},
     "output_type": "execute_result"
    }
   ],
   "source": [
    "animalNames"
   ]
  },
  {
   "cell_type": "code",
   "execution_count": 6,
   "metadata": {},
   "outputs": [
    {
     "name": "stdout",
     "output_type": "stream",
     "text": [
      "0 'grasshopper'\n",
      "0 'moskito'\n",
      "0 'dragonfly'\n",
      "0 'beetle'\n",
      "0 'butterfly'\n",
      "0 'housefly'\n",
      "1 'duck'\n",
      "1 'pelican'\n",
      "2 'ostrich'\n",
      "2 'penguin'\n",
      "3 'spider'\n",
      "5 'seaturtle'\n",
      "5 'crocodile'\n",
      "6 'frog'\n",
      "9 'giraffe'\n",
      "10 'camel'\n",
      "11 'pig'\n",
      "11 'horse'\n",
      "14 'kangaroo'\n",
      "17 'antelop'\n",
      "20 'ape'\n",
      "22 'lion'\n",
      "23 'bear'\n",
      "24 'dog'\n",
      "25 'cat'\n",
      "28 'rat'\n",
      "29 'rabbit'\n",
      "31 'bat'\n",
      "32 'elephant'\n",
      "36 'skunk'\n",
      "36 'hyena'\n",
      "43 'walrus'\n"
     ]
    }
   ],
   "source": [
    "som = SOM(84, 100)\n",
    "som.fit(animal_data)\n",
    "mapping = som.mapping(animal_data, animalNames)"
   ]
  },
  {
   "cell_type": "code",
   "execution_count": 7,
   "metadata": {},
   "outputs": [],
   "source": [
    "### Cyclic Tour"
   ]
  },
  {
   "cell_type": "code",
   "execution_count": 8,
   "metadata": {},
   "outputs": [],
   "source": [
    "class SOM_CT():\n",
    "    \n",
    "    def __init__(self, patterns=2, output_nodes=10, eta=0.1):\n",
    "        self.eta = eta\n",
    "        self.patterns = patterns\n",
    "        self.output_nodes = output_nodes\n",
    "        self.weights = None\n",
    "    \n",
    "    def Euclidean(self, x, y):\n",
    "        return np.sum(np.square(x-y),axis=1)\n",
    "        \n",
    "    def fit(self,X):  \n",
    "        np.random.seed(200)\n",
    "        self.weights = np.random.rand(self.output_nodes, self.patterns)\n",
    "        #print(self.weights)\n",
    "        epochs = 20\n",
    "        maxSize = 2\n",
    "        for epoch in range(epochs):\n",
    "            nb_size = round(maxSize - maxSize * epoch / (epochs - 1))\n",
    "            neighbours = []\n",
    "            n = self.output_nodes\n",
    "            \n",
    "            for sample in X:\n",
    "                dist = self.Euclidean(sample, self.weights)\n",
    "                #print(dist)\n",
    "                winner = np.argmin(dist)\n",
    "                '''\n",
    "                for i in range(n):\n",
    "                    if abs(i - winner) <= nb_size or abs(i - winner - n) < nb_size or abs(i - winner + n) < nb_size:\n",
    "                        neighbours.append(i)\n",
    "                '''\n",
    "                diff = int(nb_size/2)\n",
    "                weight_length = self.weights.shape[0]\n",
    "                \n",
    "                lower = (winner - diff) % weight_length\n",
    "                upper = (winner + diff) % weight_length\n",
    "                if lower > upper:\n",
    "                    lower_range = list(range(lower,weight_length))\n",
    "                    upper_range = list(range(0,upper+1))\n",
    "                    neighbours = lower_range.append(upper_range)\n",
    "                else:\n",
    "                    neighbours = range(lower,upper+1)\n",
    "                    \n",
    "                idx = neighbours\n",
    "                self.weights[idx,:] +=  self.eta * (sample - self.weights[idx,:])\n",
    "       #print(self.weights)\n",
    "            \n",
    "    def mapping(self,X,labels):\n",
    "        predictions = []\n",
    "        for sample in X:\n",
    "            dist = self.Euclidean(sample, self.weights)\n",
    "            winner = np.argmin(dist)\n",
    "            predictions.append(winner)\n",
    "            \n",
    "        predictions = np.asarray(predictions)\n",
    "        args = np.argsort(predictions)\n",
    "       \n",
    "        plt.scatter(X[:,0],X[:,1])\n",
    "        x = []\n",
    "        y = []\n",
    "        tourX = []\n",
    "        tourY = []\n",
    "        for i in args:\n",
    "            x.append(X[i][0])\n",
    "            y.append(X[i][1])\n",
    "            tourX.append(self.weights[i][0])\n",
    "            tourY.append(self.weights[i][1])\n",
    "        plt.plot(x, y, color='red')\n",
    "        #plt.plot(tourX, tourY, '-o', color='g')\n",
    "        plt.title('Cyclic tour')\n",
    "  \n",
    "        return args"
   ]
  },
  {
   "cell_type": "code",
   "execution_count": 9,
   "metadata": {},
   "outputs": [],
   "source": [
    "with open('data_lab2/cities.dat') as f:\n",
    "    lines = f.readlines()[4:]\n",
    "    raw_data = [line.replace(\";\", '').replace('\\n', '').split(\",\") for line in lines]\n",
    "    data = np.array([ elem for singleList in raw_data for elem in singleList])\n",
    "    data = np.reshape(data, (10,2))\n",
    "    data = data.astype(np.float)\n",
    "X = data"
   ]
  },
  {
   "cell_type": "code",
   "execution_count": 204,
   "metadata": {},
   "outputs": [
    {
     "data": {
      "text/plain": [
       "array([[0.4   , 0.4439],\n",
       "       [0.2439, 0.1463],\n",
       "       [0.1707, 0.2293],\n",
       "       [0.2293, 0.761 ],\n",
       "       [0.5171, 0.9414],\n",
       "       [0.8732, 0.6536],\n",
       "       [0.6878, 0.5219],\n",
       "       [0.8488, 0.3609],\n",
       "       [0.6683, 0.2536],\n",
       "       [0.6195, 0.2634]])"
      ]
     },
     "execution_count": 204,
     "metadata": {},
     "output_type": "execute_result"
    }
   ],
   "source": [
    "X"
   ]
  },
  {
   "cell_type": "code",
   "execution_count": 208,
   "metadata": {},
   "outputs": [],
   "source": [
    "cities_labels = np.arange(10)"
   ]
  },
  {
   "cell_type": "code",
   "execution_count": 209,
   "metadata": {},
   "outputs": [
    {
     "data": {
      "text/plain": [
       "array([0, 1, 2, 3, 4, 5, 6, 7, 8, 9])"
      ]
     },
     "execution_count": 209,
     "metadata": {},
     "output_type": "execute_result"
    },
    {
     "data": {
      "image/png": "[encoded data removed]",
      "text/plain": [
       "<Figure size 432x288 with 1 Axes>"
      ]
     },
     "metadata": {
      "needs_background": "light"
     },
     "output_type": "display_data"
    }
   ],
   "source": [
    "ctour = SOM_CT(patterns=2, output_nodes=10, eta=0.1)\n",
    "ctour.fit(X)\n",
    "ctour.mapping(X,cities_labels)\n"
   ]
  },
  {
   "cell_type": "code",
   "execution_count": 10,
   "metadata": {},
   "outputs": [],
   "source": [
    "\n",
    "class SOM_Votes():\n",
    "    \n",
    "    def __init__(self, patterns=31, output_nodes=100, eta=0.01):\n",
    "        self.eta = eta\n",
    "        self.patterns = patterns\n",
    "        self.output_nodes = output_nodes\n",
    "        self.weights = None\n",
    "\n",
    "    \n",
    "    def Manhatten(self, x, y):\n",
    "        return np.sum(np.square(x-y),axis=1)\n",
    "        \n",
    "    def fit(self,X):  \n",
    "        np.random.seed(200)\n",
    "        self.weights = np.random.rand(self.output_nodes, self.patterns)\n",
    "        #print(self.weights)\n",
    "        epochs = 20\n",
    "        maxSize = \n",
    "        for epoch in range(epochs):\n",
    "            nb_size = round(maxSize - maxSize * epoch / (epochs - 1))\n",
    "            neighbours = []\n",
    "            n = self.output_nodes\n",
    "            \n",
    "            for sample in X:\n",
    "                dist = self.Manhatten(sample, self.weights)\n",
    "                #print(dist)\n",
    "                winner = np.argmin(dist)\n",
    "                grid_winner = np.array([math.floor(winner/10), winner % 10])\n",
    "\n",
    "                for i in range(100):\n",
    "                    i_grid = np.array([math.floor(i/10), i % 10])\n",
    "                    if cityblock(grid_winner, i_grid) <= nb_size:\n",
    "                        neighbours.append(i)\n",
    "                        \n",
    "                idx = neighbours\n",
    "                self.weights[idx,:] +=  self.eta * (sample - self.weights[idx,:])\n",
    "       #print(self.weights)\n",
    "            \n",
    "    def mapping(self,X,labels):\n",
    "        predictions = []\n",
    "        #predictions = np.zeros((349,))\n",
    "        for sample in X:\n",
    "            dist = self.Manhatten(sample, self.weights)\n",
    "            winner = np.argmin(dist)\n",
    "            predictions.append(winner)\n",
    "\n",
    "        predictions = np.asarray(predictions, 'int')\n",
    "        mymap = predictions\n",
    "        args = np.argsort(predictions)\n",
    "        return (mymap, args)\n"
   ]
  },
  {
   "cell_type": "code",
   "execution_count": 211,
   "metadata": {},
   "outputs": [],
   "source": [
    "votes = np.loadtxt('data_lab2/votes.dat', delimiter = ',', dtype = float)\n",
    "votes = np.reshape(votes,(349,31))\n",
    "votes_labels = list(range(len(votes)))\n",
    "X = votes"
   ]
  },
  {
   "cell_type": "code",
   "execution_count": 212,
   "metadata": {},
   "outputs": [],
   "source": [
    "file = open('data_lab2/mpnames.txt', encoding = 'ISO-8859-1')\n",
    "myname = np.array(file.read().split('\\n')[:-1])\n",
    "\n"
   ]
  },
  {
   "cell_type": "code",
   "execution_count": 213,
   "metadata": {},
   "outputs": [],
   "source": [
    "file = open('data_lab2/mpdistrict.dat', 'r')\n",
    "rawData = file.readlines()\n",
    "district = []\n",
    "for i in range(len(rawData)):\n",
    "    district.append(int(rawData[i]))\n",
    "\n",
    "file = open('data_lab2/mpparty.dat', 'r')\n",
    "rawData = file.readlines()\n",
    "party = []\n",
    "for i in range(len(rawData)):\n",
    "    party.append((rawData[i]))\n",
    "\n",
    "myparty = []\n",
    "for i in party[3:]:\n",
    "    myparty.append (int(i.strip()))    \n",
    "\n",
    "\n",
    "file = open('data_lab2/mpsex.dat', 'r')\n",
    "rawData = file.readlines()\n",
    "sex = []\n",
    "for i in range(len(rawData)):\n",
    "    sex.append((rawData[i]))\n",
    "s = []\n",
    "for i in sex[2:]:\n",
    "    s.append (int(i.strip()))\n"
   ]
  },
  {
   "cell_type": "code",
   "execution_count": 214,
   "metadata": {},
   "outputs": [],
   "source": [
    "\n",
    "som_v = SOM_Votes(patterns=31, output_nodes=100, eta=0.1)\n",
    "som_v.fit(X)\n",
    "mymap,index = som_v.mapping(X,votes_labels)"
   ]
  },
  {
   "cell_type": "code",
   "execution_count": 215,
   "metadata": {
    "scrolled": true
   },
   "outputs": [
    {
     "data": {
      "text/plain": [
       "array([84, 84, 84, 84, 53, 84, 94, 53, 53, 84, 84, 53, 53, 84, 94, 84, 94,\n",
       "       84, 53, 84, 53, 84, 53, 84, 53, 84, 53, 84, 53, 69, 84, 94, 94, 53,\n",
       "       84, 84, 84, 84, 84, 84, 53, 53, 53, 53, 62, 53, 84, 84, 84, 53, 53,\n",
       "       84, 84, 53, 94, 53, 84, 84, 84, 94, 84, 84, 84, 84, 53, 84, 84, 53,\n",
       "       84, 94, 84, 53, 84, 53, 53, 84, 94, 53, 84, 84, 84, 53, 53, 53, 53,\n",
       "       84, 53, 53, 94, 84, 84, 84, 53, 94, 53, 53, 53, 84, 84, 84, 53, 84,\n",
       "       84, 84, 53, 53, 53, 84, 84, 84, 84, 53, 53, 75, 53, 84, 53, 84, 53,\n",
       "       84, 84, 84, 84, 94, 53, 94, 84, 84, 84, 84, 53, 84, 94, 53, 53, 53,\n",
       "       84, 53, 53, 53, 53, 84, 84, 84, 53, 53, 53, 53, 53, 94, 53, 84, 84,\n",
       "       84, 94, 84, 84, 53, 53, 94, 53, 84, 84, 84, 53, 53, 84, 53, 84, 84,\n",
       "       53, 84, 84, 84, 84, 84, 53, 84, 84, 84, 53, 94, 53, 84, 53, 84, 84,\n",
       "       53, 53, 53, 53, 53, 53, 84, 94, 84, 84, 84, 84, 84, 53, 84, 94, 53,\n",
       "       84, 53, 84, 84, 94, 84, 84, 53, 84, 53, 53, 53, 84, 84, 53, 94, 84,\n",
       "       84, 92, 84, 84, 53, 84, 84, 84, 53, 53, 53, 53, 53, 84, 84, 53, 94,\n",
       "       84, 53, 84, 53, 53, 84, 84, 84, 84, 84, 53, 84, 84, 53, 53, 53, 53,\n",
       "       84, 84, 53, 53, 94, 53, 84, 84, 84, 84, 53, 53, 93, 53, 53, 53, 84,\n",
       "       94, 53, 84, 84, 53, 84, 53, 53, 53, 84, 84, 53, 53, 53, 84, 94, 84,\n",
       "       53, 84, 84, 84, 84, 53, 53, 53, 94, 84, 53, 53, 84, 53, 53, 84, 53,\n",
       "       53, 84, 53, 53, 84, 53, 53, 53, 53, 53, 84, 94, 84, 84, 84, 53, 53,\n",
       "       53, 84, 94, 84, 53, 94, 53, 94, 84, 53, 84, 84, 84, 53, 84, 53, 53,\n",
       "       53, 94, 53, 84, 53, 53, 53, 84, 84])"
      ]
     },
     "execution_count": 215,
     "metadata": {},
     "output_type": "execute_result"
    }
   ],
   "source": [
    "mymap"
   ]
  },
  {
   "cell_type": "code",
   "execution_count": 64,
   "metadata": {},
   "outputs": [
    {
     "data": {
      "text/plain": [
       "array([1, 0, 0, 0, 1, 0, 1, 0, 0, 0, 1, 0, 0, 0, 1, 0, 0, 0, 1, 0, 1, 0,\n",
       "       1, 1, 1, 0, 1, 0, 1, 1, 0, 0, 0, 0, 0, 0, 0, 1, 0, 1, 0, 0, 1, 0,\n",
       "       0, 0, 0, 1, 1, 0, 0, 1, 0, 0, 1, 0, 0, 0, 1, 0, 0, 0, 0, 0, 0, 1,\n",
       "       0, 1, 0, 1, 0, 0, 0, 1, 1, 1, 1, 1, 0, 0, 1, 0, 1, 1, 1, 1, 1, 0,\n",
       "       1, 0, 1, 1, 1, 1, 0, 1, 0, 1, 0, 0, 1, 1, 0, 0, 0, 0, 0, 0, 0, 1,\n",
       "       1, 1, 1, 0, 1, 1, 0, 0, 1, 1, 1, 1, 0, 1, 0, 1, 0, 0, 1, 0, 0, 0,\n",
       "       1, 0, 0, 0, 0, 1, 0, 0, 1, 1, 1, 0, 1, 1, 1, 1, 0, 0, 0, 1, 0, 1,\n",
       "       0, 1, 1, 0, 1, 0, 0, 1, 1, 0, 0, 1, 1, 1, 1, 0, 0, 0, 0, 1, 1, 0,\n",
       "       0, 1, 0, 1, 0, 1, 0, 1, 1, 0, 1, 0, 0, 1, 1, 1, 1, 0, 1, 0, 0, 1,\n",
       "       1, 1, 1, 0, 0, 0, 1, 0, 0, 1, 0, 1, 1, 1, 1, 1, 0, 0, 1, 0, 1, 0,\n",
       "       1, 0, 0, 1, 0, 0, 0, 1, 1, 1, 0, 1, 0, 0, 0, 0, 1, 0, 1, 0, 0, 1,\n",
       "       1, 1, 0, 1, 1, 1, 0, 0, 1, 1, 0, 0, 1, 1, 0, 1, 0, 0, 1, 0, 0, 1,\n",
       "       1, 1, 1, 1, 0, 0, 0, 1, 0, 0, 1, 0, 0, 1, 1, 1, 1, 0, 1, 1, 1, 0,\n",
       "       1, 1, 0, 0, 1, 0, 1, 1, 0, 1, 0, 0, 0, 1, 1, 0, 0, 0, 0, 0, 0, 0,\n",
       "       0, 0, 0, 0, 1, 1, 0, 0, 1, 0, 0, 0, 0, 1, 0, 1, 1, 1, 1, 0, 1, 0,\n",
       "       0, 0, 1, 1, 0, 0, 0, 1, 0, 0, 0, 1, 0, 1, 0, 1, 1, 1, 1])"
      ]
     },
     "execution_count": 64,
     "metadata": {},
     "output_type": "execute_result"
    }
   ],
   "source": [
    "s = np.array(s)\n",
    "sexmap = s[index]\n",
    "sexmap = np.reshape(sexmap,(349,))\n",
    "sexmap "
   ]
  },
  {
   "cell_type": "code",
   "execution_count": null,
   "metadata": {},
   "outputs": [],
   "source": []
  }
 ],
 "metadata": {
  "kernelspec": {
   "display_name": "Python 3",
   "language": "python",
   "name": "python3"
  },
  "language_info": {
   "codemirror_mode": {
    "name": "ipython",
    "version": 3
   },
   "file_extension": ".py",
   "mimetype": "text/x-python",
   "name": "python",
   "nbconvert_exporter": "python",
   "pygments_lexer": "ipython3",
   "version": "3.7.1"
  }
 },
 "nbformat": 4,
 "nbformat_minor": 2
}
